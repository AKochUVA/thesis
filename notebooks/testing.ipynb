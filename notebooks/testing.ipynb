{
 "cells": [
  {
   "cell_type": "code",
   "execution_count": 46,
   "id": "initial_id",
   "metadata": {
    "collapsed": true,
    "ExecuteTime": {
     "end_time": "2024-05-23T16:42:37.634751Z",
     "start_time": "2024-05-23T16:42:37.630900Z"
    }
   },
   "outputs": [],
   "source": [
    "import pandas as pd\n",
    "import numpy as np\n",
    "from sklearn.metrics import confusion_matrix, classification_report, roc_auc_score, root_mean_squared_error"
   ]
  },
  {
   "cell_type": "code",
   "outputs": [],
   "source": [
    "def evaluate_results(path, func, threshold):\n",
    "    \"\"\"Function to evaluate the classification accuracy using the generated expression.\"\"\"\n",
    "    # Import test data\n",
    "    test_data = pd.read_csv(path, header=None, index_col=None)\n",
    "    y_test = test_data.iloc[:, -1].values\n",
    "    \n",
    "    y_pred = test_data.apply(func, axis=1)\n",
    "    y_pred_binarized = (y_pred > threshold).astype(int)\n",
    "    \n",
    "    # Evaluate the model\n",
    "    conf_mat = confusion_matrix(y_test, y_pred_binarized)\n",
    "    tn, fp, fn, tp = confusion_matrix(y_test, y_pred_binarized).ravel()\n",
    "    print(classification_report(y_test, y_pred_binarized))\n",
    "    print(f\"Confusion matrix: TN: {tn}, FP: {fp}, FN: {fn}, TP: {tp} \\n\", conf_mat)\n",
    "    print(f'AUC score: {round(roc_auc_score(y_test, y_pred_binarized),2)}')\n",
    "    print(f'RMSE: {round(root_mean_squared_error(y_test, y_pred_binarized),2)}')\n",
    "    \n",
    "def symbolic_regression_function1(df):\n",
    "    \"\"\"Definition of the symbolic regression function\"\"\"\n",
    "    # (((C*C+C*D)-B)-A*C)-C*B\n",
    "    A = 0\n",
    "    B = 1\n",
    "    D = 2\n",
    "    C1 = -0.6965971995944867\n",
    "    C2 = 1.2781484814751356\n",
    "    C3 = 1.2430512333536776\n",
    "    C4 = 0.027783268153546238\n",
    "    C5 = -2.469009073022163\n",
    "\n",
    "    return (((C1*C2+C3*df[D])-df[B])-df[A]*C4)-C5*df[B]\n",
    "\n",
    "def symbolic_regression_function2(df):\n",
    "    # ((C+D)+B)-log(A)*C\n",
    "    A = 0\n",
    "    B = 1\n",
    "    D = 2\n",
    "    C1 = 0.01773634464316796\n",
    "    C2 = 0.4539789850289721\n",
    "    \n",
    "    return ((C1+df[D])+df[B])-np.log(df[A])*C2\n",
    "\n",
    "def symbolic_regression_function3(df):\n",
    "    # (B/C+sqrt(A))-((C+D)-sqrt(A+C))*C\n",
    "    A = 0\n",
    "    B = 1\n",
    "    D = 2\n",
    "    C = [0.644624167915657,-0.8059279527643397,-0.9518927236245961,-1.200766150699288]\n",
    "    \n",
    "    return (df[B] / C[0] + np.sqrt(df[A])) - ((C[1] + df[D]) - np.sqrt(df[A] + C[2])) * C[3]"
   ],
   "metadata": {
    "collapsed": false,
    "ExecuteTime": {
     "end_time": "2024-05-23T16:43:09.781399Z",
     "start_time": "2024-05-23T16:43:09.779055Z"
    }
   },
   "id": "ef99a7d96f49ef94",
   "execution_count": 51
  },
  {
   "cell_type": "code",
   "outputs": [
    {
     "name": "stdout",
     "output_type": "stream",
     "text": [
      "              precision    recall  f1-score   support\n",
      "\n",
      "           0       0.77      0.73      0.75       200\n",
      "           1       0.71      0.75      0.73       174\n",
      "\n",
      "    accuracy                           0.74       374\n",
      "   macro avg       0.74      0.74      0.74       374\n",
      "weighted avg       0.74      0.74      0.74       374\n",
      "\n",
      "Confusion matrix: TN: 147, FP: 53, FN: 44, TP: 130 \n",
      " [[147  53]\n",
      " [ 44 130]]\n",
      "AUC score: 0.74\n",
      "RMSE: 0.51\n"
     ]
    }
   ],
   "source": [
    "# Main\n",
    "path = '../HVAE-master/data/telco/telco3var_test.csv'\n",
    "evaluate_results(path, symbolic_regression_function3, threshold=0.1)"
   ],
   "metadata": {
    "collapsed": false,
    "ExecuteTime": {
     "end_time": "2024-05-23T16:46:20.872927Z",
     "start_time": "2024-05-23T16:46:20.855518Z"
    }
   },
   "id": "fa542c57ca34e7a6",
   "execution_count": 57
  },
  {
   "cell_type": "code",
   "outputs": [],
   "source": [],
   "metadata": {
    "collapsed": false
   },
   "id": "65d19251f56f40b9"
  }
 ],
 "metadata": {
  "kernelspec": {
   "display_name": "Python 3",
   "language": "python",
   "name": "python3"
  },
  "language_info": {
   "codemirror_mode": {
    "name": "ipython",
    "version": 2
   },
   "file_extension": ".py",
   "mimetype": "text/x-python",
   "name": "python",
   "nbconvert_exporter": "python",
   "pygments_lexer": "ipython2",
   "version": "2.7.6"
  }
 },
 "nbformat": 4,
 "nbformat_minor": 5
}
