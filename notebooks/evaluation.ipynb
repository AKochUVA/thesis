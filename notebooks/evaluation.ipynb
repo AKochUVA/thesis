{
 "cells": [
  {
   "cell_type": "code",
   "execution_count": 38,
   "id": "initial_id",
   "metadata": {
    "collapsed": true,
    "ExecuteTime": {
     "end_time": "2024-06-04T13:47:12.045474Z",
     "start_time": "2024-06-04T13:47:12.026260Z"
    }
   },
   "outputs": [
    {
     "name": "stdout",
     "output_type": "stream",
     "text": [
      "The autoreload extension is already loaded. To reload it, use:\n",
      "  %reload_ext autoreload\n"
     ]
    }
   ],
   "source": [
    "from src.evaluation import evaluate_SR_expression\n",
    "\n",
    "%load_ext autoreload\n",
    "%autoreload 2"
   ]
  },
  {
   "cell_type": "code",
   "outputs": [],
   "source": [
    "results_path='../results/kkbox_3var_9depth.json'\n",
    "test_set_path='../data/train_test_data/kkbox_3vars_test.csv'\n"
   ],
   "metadata": {
    "collapsed": false,
    "ExecuteTime": {
     "end_time": "2024-06-04T13:47:12.378604Z",
     "start_time": "2024-06-04T13:47:12.366295Z"
    }
   },
   "id": "e7c452a054dc7622",
   "execution_count": 39
  },
  {
   "cell_type": "code",
   "outputs": [],
   "source": [],
   "metadata": {
    "collapsed": false,
    "ExecuteTime": {
     "end_time": "2024-06-04T13:47:12.809924Z",
     "start_time": "2024-06-04T13:47:12.806654Z"
    }
   },
   "id": "66fb02f973e5b582",
   "execution_count": 39
  },
  {
   "cell_type": "code",
   "outputs": [
    {
     "name": "stdout",
     "output_type": "stream",
     "text": [
      "Evaluation of the Symbolic Regression model with expression exp(exp(D))-(exp(B))^2: \n",
      " [[4073  394]\n",
      " [ 219 4199]]\n",
      "- AUC score: 0.93\n",
      "- Precision: 0.91\n",
      "- Recall: 0.95\n",
      "- F1 score: 0.93\n",
      "\n",
      "\n",
      "Evaluation of the Symbolic Regression model with expression (exp(D)-B)-(B*exp(A)-exp(D)): \n",
      " [[4073  394]\n",
      " [ 219 4199]]\n",
      "- AUC score: 0.93\n",
      "- Precision: 0.91\n",
      "- Recall: 0.95\n",
      "- F1 score: 0.93\n",
      "\n",
      "\n",
      "Evaluation of the Symbolic Regression model with expression ((D-A)-B)^3+exp(A): \n",
      " [[4073  394]\n",
      " [ 219 4199]]\n",
      "- AUC score: 0.93\n",
      "- Precision: 0.91\n",
      "- Recall: 0.95\n",
      "- F1 score: 0.93\n",
      "\n",
      "\n",
      "Evaluation of the Symbolic Regression model with expression ((exp(D)-B)-B)*exp(A): \n",
      " [[4074  393]\n",
      " [ 228 4190]]\n",
      "- AUC score: 0.93\n",
      "- Precision: 0.91\n",
      "- Recall: 0.95\n",
      "- F1 score: 0.93\n",
      "\n",
      "\n",
      "Evaluation of the Symbolic Regression model with expression exp(exp(D)-A)-exp(B): \n",
      " [[4103  364]\n",
      " [ 490 3928]]\n",
      "- AUC score: 0.9\n",
      "- Precision: 0.92\n",
      "- Recall: 0.89\n",
      "- F1 score: 0.9\n",
      "\n",
      "\n",
      "Evaluation of the Symbolic Regression model with expression (B-exp(D))^4-(B+(B+B)): \n",
      " [[4075  392]\n",
      " [ 222 4196]]\n",
      "- AUC score: 0.93\n",
      "- Precision: 0.91\n",
      "- Recall: 0.95\n",
      "- F1 score: 0.93\n",
      "\n",
      "\n",
      "Evaluation of the Symbolic Regression model with expression (exp(D)-(B-exp(D)))-B*exp(A): \n",
      " [[4073  394]\n",
      " [ 219 4199]]\n",
      "- AUC score: 0.93\n",
      "- Precision: 0.91\n",
      "- Recall: 0.95\n",
      "- F1 score: 0.93\n",
      "\n",
      "\n",
      "Evaluation of the Symbolic Regression model with expression exp(exp(D+D)-B)-exp(B): \n",
      " [[4072  395]\n",
      " [ 216 4202]]\n",
      "- AUC score: 0.93\n",
      "- Precision: 0.91\n",
      "- Recall: 0.95\n",
      "- F1 score: 0.93\n",
      "\n",
      "\n",
      "Evaluation of the Symbolic Regression model with expression (exp(D+D)-B)-(B*A+B): \n",
      " [[4073  394]\n",
      " [ 219 4199]]\n",
      "- AUC score: 0.93\n",
      "- Precision: 0.91\n",
      "- Recall: 0.95\n",
      "- F1 score: 0.93\n",
      "\n",
      "\n",
      "Evaluation of the Symbolic Regression model with expression exp(exp(D))-(exp(B))^2: \n",
      " [[4073  394]\n",
      " [ 219 4199]]\n",
      "- AUC score: 0.93\n",
      "- Precision: 0.91\n",
      "- Recall: 0.95\n",
      "- F1 score: 0.93\n"
     ]
    }
   ],
   "source": [
    "evaluate_SR_expression(results_path, test_set_path, threshold=0.5, num_vars=3)"
   ],
   "metadata": {
    "collapsed": false,
    "ExecuteTime": {
     "end_time": "2024-06-04T15:32:08.302117Z",
     "start_time": "2024-06-04T15:32:08.171935Z"
    }
   },
   "id": "c4eb0814b7bd5e5d",
   "execution_count": 55
  },
  {
   "cell_type": "code",
   "outputs": [],
   "source": [],
   "metadata": {
    "collapsed": false
   },
   "id": "30be83bfeaae65e0"
  }
 ],
 "metadata": {
  "kernelspec": {
   "display_name": "Python 3",
   "language": "python",
   "name": "python3"
  },
  "language_info": {
   "codemirror_mode": {
    "name": "ipython",
    "version": 2
   },
   "file_extension": ".py",
   "mimetype": "text/x-python",
   "name": "python",
   "nbconvert_exporter": "python",
   "pygments_lexer": "ipython2",
   "version": "2.7.6"
  }
 },
 "nbformat": 4,
 "nbformat_minor": 5
}
