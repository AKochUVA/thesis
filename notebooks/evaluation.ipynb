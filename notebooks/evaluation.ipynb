{
 "cells": [
  {
   "cell_type": "code",
   "execution_count": 16,
   "id": "initial_id",
   "metadata": {
    "collapsed": true,
    "ExecuteTime": {
     "end_time": "2024-06-03T19:44:31.073423Z",
     "start_time": "2024-06-03T19:44:31.054251Z"
    }
   },
   "outputs": [
    {
     "name": "stdout",
     "output_type": "stream",
     "text": [
      "The autoreload extension is already loaded. To reload it, use:\n",
      "  %reload_ext autoreload\n"
     ]
    }
   ],
   "source": [
    "from src.evaluation import evaluate_SR_expression\n",
    "\n",
    "%load_ext autoreload\n",
    "%autoreload 2"
   ]
  },
  {
   "cell_type": "code",
   "outputs": [],
   "source": [
    "results_path='../results/telco_3var_9depth.json'\n",
    "test_set_path='../data/train_test_data/telco_3vars_test.csv'\n"
   ],
   "metadata": {
    "collapsed": false,
    "ExecuteTime": {
     "end_time": "2024-06-03T19:44:31.293258Z",
     "start_time": "2024-06-03T19:44:31.279298Z"
    }
   },
   "id": "e7c452a054dc7622",
   "execution_count": 17
  },
  {
   "cell_type": "code",
   "outputs": [
    {
     "name": "stdout",
     "output_type": "stream",
     "text": [
      "Evaluation of the Symbolic Regression model with expression (D^3+B^5)-log(sqrt(A)): \n",
      " [[ 68 132]\n",
      " [123  51]]\n",
      "- AUC score: 0.32\n",
      "- Precision: 0.28\n",
      "- Recall: 0.29\n",
      "- F1 score: 0.29\n",
      "\n",
      "\n",
      "Evaluation of the Symbolic Regression model with expression (D/A-cos(D))+(D*B)*D: \n",
      " [[187  13]\n",
      " [ 87  87]]\n",
      "- AUC score: 0.72\n",
      "- Precision: 0.87\n",
      "- Recall: 0.5\n",
      "- F1 score: 0.64\n",
      "\n",
      "\n",
      "Evaluation of the Symbolic Regression model with expression (D+B)-log(sqrt(A)): \n",
      " [[178  22]\n",
      " [ 74 100]]\n",
      "- AUC score: 0.73\n",
      "- Precision: 0.82\n",
      "- Recall: 0.57\n",
      "- F1 score: 0.68\n",
      "\n",
      "\n",
      "Evaluation of the Symbolic Regression model with expression (B*D+(D/A)*D)-cos(D): \n",
      " [[187  13]\n",
      " [ 87  87]]\n",
      "- AUC score: 0.72\n",
      "- Precision: 0.87\n",
      "- Recall: 0.5\n",
      "- F1 score: 0.64\n",
      "\n",
      "\n",
      "Evaluation of the Symbolic Regression model with expression (D+B)-log(B+sqrt(A)): \n",
      " [[183  17]\n",
      " [ 90  84]]\n",
      "- AUC score: 0.7\n",
      "- Precision: 0.83\n",
      "- Recall: 0.48\n",
      "- F1 score: 0.61\n",
      "\n",
      "\n",
      "Evaluation of the Symbolic Regression model with expression (D+exp(B))-log(A): \n",
      " [[168  32]\n",
      " [ 66 108]]\n",
      "- AUC score: 0.73\n",
      "- Precision: 0.77\n",
      "- Recall: 0.62\n",
      "- F1 score: 0.69\n",
      "\n",
      "\n",
      "Evaluation of the Symbolic Regression model with expression (D+sqrt(B))-log(D+sqrt(A)): \n",
      " [[193   7]\n",
      " [109  65]]\n",
      "- AUC score: 0.67\n",
      "- Precision: 0.9\n",
      "- Recall: 0.37\n",
      "- F1 score: 0.53\n",
      "\n",
      "\n",
      "Evaluation of the Symbolic Regression model with expression (B+D)-log(A/sqrt(A)): \n",
      " [[178  22]\n",
      " [ 74 100]]\n",
      "- AUC score: 0.73\n",
      "- Precision: 0.82\n",
      "- Recall: 0.57\n",
      "- F1 score: 0.68\n",
      "\n",
      "\n",
      "Evaluation of the Symbolic Regression model with expression (B+B*B)-log(A/exp(D+D)): \n",
      " [[163  37]\n",
      " [ 61 113]]\n",
      "- AUC score: 0.73\n",
      "- Precision: 0.75\n",
      "- Recall: 0.65\n",
      "- F1 score: 0.7\n",
      "\n",
      "\n",
      "Evaluation of the Symbolic Regression model with expression (D+exp(B))-log(A+D): \n",
      " [[171  29]\n",
      " [ 68 106]]\n",
      "- AUC score: 0.73\n",
      "- Precision: 0.79\n",
      "- Recall: 0.61\n",
      "- F1 score: 0.69\n",
      "\n"
     ]
    }
   ],
   "source": [
    "evaluate_SR_expression(results_path, test_set_path, threshold=0.5)"
   ],
   "metadata": {
    "collapsed": false,
    "ExecuteTime": {
     "end_time": "2024-06-03T19:45:01.512623Z",
     "start_time": "2024-06-03T19:45:01.452221Z"
    }
   },
   "id": "c4eb0814b7bd5e5d",
   "execution_count": 19
  },
  {
   "cell_type": "code",
   "outputs": [],
   "source": [],
   "metadata": {
    "collapsed": false
   },
   "id": "30be83bfeaae65e0"
  }
 ],
 "metadata": {
  "kernelspec": {
   "display_name": "Python 3",
   "language": "python",
   "name": "python3"
  },
  "language_info": {
   "codemirror_mode": {
    "name": "ipython",
    "version": 2
   },
   "file_extension": ".py",
   "mimetype": "text/x-python",
   "name": "python",
   "nbconvert_exporter": "python",
   "pygments_lexer": "ipython2",
   "version": "2.7.6"
  }
 },
 "nbformat": 4,
 "nbformat_minor": 5
}
