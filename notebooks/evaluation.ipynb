{
 "cells": [
  {
   "cell_type": "code",
   "execution_count": 10,
   "id": "initial_id",
   "metadata": {
    "collapsed": true,
    "ExecuteTime": {
     "end_time": "2024-06-28T16:06:30.683620Z",
     "start_time": "2024-06-28T16:06:30.622983Z"
    }
   },
   "outputs": [
    {
     "name": "stdout",
     "output_type": "stream",
     "text": [
      "The autoreload extension is already loaded. To reload it, use:\n",
      "  %reload_ext autoreload\n"
     ]
    }
   ],
   "source": [
    "from src.evaluation import evaluate_SR_expression\n",
    "\n",
    "%load_ext autoreload\n",
    "%autoreload 2\n",
    "\n",
    "%matplotlib inline\n",
    "\n",
    "import warnings\n",
    "warnings.filterwarnings('ignore')"
   ]
  },
  {
   "cell_type": "code",
   "outputs": [],
   "source": [
    "dataset = 'kkbox'\n",
    "num_vars = 5\n",
    "depth = min(num_vars*2+1, 11)\n",
    "seed = 0"
   ],
   "metadata": {
    "collapsed": false,
    "ExecuteTime": {
     "end_time": "2024-06-28T19:42:49.272660Z",
     "start_time": "2024-06-28T19:42:49.253200Z"
    }
   },
   "id": "16423fbaa83cf9b7",
   "execution_count": 76
  },
  {
   "cell_type": "code",
   "outputs": [],
   "source": [
    "results_path=f'../results/{dataset}_{num_vars}var_{depth}depth_seed{seed}.json'\n",
    "test_set_path=f'../data/train_val_test_data/{dataset}_{num_vars}vars_test_seed{seed}.csv'\n"
   ],
   "metadata": {
    "collapsed": false,
    "ExecuteTime": {
     "end_time": "2024-06-28T19:42:49.457999Z",
     "start_time": "2024-06-28T19:42:49.441983Z"
    }
   },
   "id": "e7c452a054dc7622",
   "execution_count": 77
  },
  {
   "cell_type": "code",
   "outputs": [],
   "source": [
    "telco_column_names2 = ['InternetService_FiberOptic', 'Contract_MonthToMonth']\n",
    "telco_column_names3 = ['Tenure', 'InternetService_FiberOptic', 'Contract_MonthToMonth']\n",
    "telco_column_names5 = ['Tenure', 'InternetService_FiberOptic', 'Contract_MonthToMonth',\n",
    "                       'Contract_TwoYear', 'PaymentMethod_ElectronicCheck']\n",
    "telco_column_names5_seed2 = ['tenure', 'MonthlyCharges', 'TotalCharges', 'InternetService_FiberOptic', 'Contract_MonthToMonth']\n",
    "telco_column_names10_seed0 = ['tenure', 'StreamingMovies', 'PaperlessBilling', 'MonthlyCharges','TotalCharges', 'InternetService_FiberOptic', \n",
    "                              'Contract_MonthToMonth', 'Contract_OneYear', 'Contract_TwoYear', 'PaymentMethod_ElectronicCheck']\n",
    "\n",
    "telco_column_names10_seed1 = ['tenure', 'OnlineSecurity', 'PaperlessBilling', 'MonthlyCharges', 'TotalCharges', 'InternetService_DSL', \n",
    "                              'InternetService_FiberOptic', 'Contract_MonthToMonth', 'Contract_TwoYear', 'PaymentMethod_ElectronicCheck']\n",
    "\n",
    "telco_column_names10_seed2 = ['tenure', 'StreamingMovies', 'PaperlessBilling', 'MonthlyCharges', 'TotalCharges', 'InternetService_DSL', \n",
    "                              'InternetService_FiberOptic', 'Contract_MonthToMonth', 'Contract_TwoYear', 'PaymentMethod_ElectronicCheck']\n",
    "\n",
    "if dataset == 'telco':\n",
    "    if num_vars == 2:\n",
    "        column_names = telco_column_names2\n",
    "    elif num_vars == 3:\n",
    "        column_names = telco_column_names3\n",
    "    elif num_vars == 5:\n",
    "        if seed == 2:\n",
    "            column_names = telco_column_names5_seed2\n",
    "        else:\n",
    "            column_names = telco_column_names5\n",
    "    elif num_vars == 10:\n",
    "        if seed == 0:\n",
    "            column_names = telco_column_names10_seed0\n",
    "        elif seed == 1:\n",
    "            column_names = telco_column_names10_seed1\n",
    "        elif seed == 2:\n",
    "            column_names = telco_column_names10_seed2\n",
    "elif dataset == 'kkbox':\n",
    "    if num_vars == 3:\n",
    "        if seed == 0 or seed == 2:\n",
    "            column_names = ['mean_auto_renew', 'last_auto_renew', 'last_cancel']\n",
    "        elif seed == 1:\n",
    "            column_names = ['num_transactions', 'last_auto_renew', 'last_cancel']\n",
    "    elif num_vars == 5:\n",
    "        if seed == 0:\n",
    "            column_names = ['num_transactions', 'mean_auto_renew', 'last_auto_renew', 'mean_cancel', 'last_cancel']\n",
    "        elif seed == 1 or seed == 2:\n",
    "            column_names = ['num_transactions', 'mean_act_pay', 'mean_auto_renew', 'last_auto_renew', 'last_cancel']\n",
    "    elif num_vars == 10:\n",
    "        if seed == 0:\n",
    "            column_names = ['num_transactions', 'total_act_pay', 'mean_act_pay', 'mean_plan_days', 'mean_auto_renew', 'last_auto_renew', 'mean_cancel', 'last_cancel', 'total_secs_diff_last_30_vs_last_60_avg','total_secs_diff_last_60_vs_last_365_avg']\n",
    "        elif seed == 1:\n",
    "            column_names = ['num_transactions', 'total_act_pay', 'mean_act_pay', 'mean_plan_days', 'mean_auto_renew', 'last_auto_renew', 'mean_cancel', 'last_cancel', 'total_secs_diff_last_30_vs_last_60_avg','total_secs_diff_last_60_vs_last_365_avg']\n",
    "        elif seed == 2:\n",
    "            column_names = ['num_transactions', 'total_act_pay', 'mean_act_pay', 'mean_plan_days', 'mean_auto_renew', 'last_auto_renew', 'mean_cancel', 'last_cancel', 'total_secs_diff_last_30_vs_last_60_avg','total_secs_diff_last_60_vs_last_365_avg']\n",
    "    elif num_vars == 20:\n",
    "        if seed == 0:\n",
    "            column_names = ['age', 'registration_init_time', 'num_transactions', 'total_act_pay','mean_act_pay', 'mean_plan_days', 'mean_pay_diff', 'last_pay_diff','mean_auto_renew', 'last_auto_renew', 'mean_cancel', 'last_cancel','last_90days_total_secs', 'last_180days_total_secs','last_270days_total_secs', 'total_secs_diff_last_30_vs_last_60_avg','total_secs_diff_last_30_vs_last_90_avg','total_secs_diff_last_30_vs_last_180_avg','total_secs_diff_last_60_vs_last_365_avg', 'gender_not_specified']\n",
    "        elif seed == 1:\n",
    "            column_names = ['age', 'registration_init_time', 'num_transactions', 'total_act_pay','mean_act_pay', 'mean_plan_days', 'mean_pay_diff', 'last_pay_diff','mean_auto_renew', 'last_auto_renew', 'mean_cancel', 'last_cancel','last_30days_total_secs', 'last_60days_total_secs','last_180days_total_secs', 'last_270days_total_secs','avg_num100_per_num_unq', 'total_secs_diff_last_30_vs_last_60_avg','total_secs_diff_last_30_vs_last_90_avg','total_secs_diff_last_60_vs_last_365_avg']\n",
    "        elif seed == 2:\n",
    "            column_names = ['age', 'registration_init_time', 'num_transactions', 'total_act_pay','mean_act_pay', 'mean_plan_days', 'mean_pay_diff', 'last_pay_diff','mean_auto_renew', 'last_auto_renew', 'mean_cancel', 'last_cancel','last_30days_total_secs', 'last_60days_total_secs','last_90days_total_secs', 'last_180days_total_secs','total_secs_diff_last_30_vs_last_60_avg','total_secs_diff_last_30_vs_last_90_avg','total_secs_diff_last_60_vs_last_365_avg', 'gender_not_specified']\n"
   ],
   "metadata": {
    "collapsed": false,
    "ExecuteTime": {
     "end_time": "2024-06-28T19:42:49.651380Z",
     "start_time": "2024-06-28T19:42:49.635477Z"
    }
   },
   "id": "66fb02f973e5b582",
   "execution_count": 78
  },
  {
   "cell_type": "code",
   "outputs": [
    {
     "name": "stdout",
     "output_type": "stream",
     "text": [
      "Evaluation of the Symbolic Regression model with expression (exp(F+F)-(D+D))-sqrt(D): \n",
      " [[3947  453]\n",
      " [ 223 4262]]\n",
      "Expression translates to: (exp(last_cancel+last_cancel)-(last_auto_renew+last_auto_renew))-sqrt(last_auto_renew)\n",
      "- AUC score: 0.93\n",
      "- Precision: 0.9\n",
      "- Recall: 0.95\n",
      "- F1 score: 0.93\n",
      "Base model prediction (all variables = 0): 0.73\n",
      "Average feature effects: {'A': 0.0, 'B': 0.0, 'D': -0.56, 'E': 0.0, 'F': 0.6}  Please be advised that these values are approximate and are most likely incorrect when the expression contains non-linear interactions between variables.\n",
      "\n",
      "\n",
      "Evaluation of the Symbolic Regression model with expression (exp(F+F)-exp(D)*D)-D*D: \n",
      " [[3947  453]\n",
      " [ 223 4262]]\n",
      "Expression translates to: (exp(last_cancel+last_cancel)-exp(last_auto_renew)*last_auto_renew)-last_auto_renew*last_auto_renew\n",
      "- AUC score: 0.93\n",
      "- Precision: 0.9\n",
      "- Recall: 0.95\n",
      "- F1 score: 0.93\n",
      "Base model prediction (all variables = 0): 0.73\n",
      "Average feature effects: {'A': 0.0, 'B': 0.0, 'D': -0.61, 'E': 0.0, 'F': 0.63}  Please be advised that these values are approximate and are most likely incorrect when the expression contains non-linear interactions between variables.\n",
      "\n",
      "\n",
      "Evaluation of the Symbolic Regression model with expression exp(exp(F+F))-D*A: \n",
      " [[3850  550]\n",
      " [ 208 4277]]\n",
      "Expression translates to: exp(exp(last_cancel+last_cancel))-last_auto_renew*num_transactions\n",
      "- AUC score: 0.93\n",
      "- Precision: 0.89\n",
      "- Recall: 0.95\n",
      "- F1 score: 0.92\n",
      "Base model prediction (all variables = 0): 0.94\n",
      "Average feature effects: {'A': -0.04, 'B': 0.0, 'D': -0.69, 'E': 0.0, 'F': 0.56}  Please be advised that these values are approximate and are most likely incorrect when the expression contains non-linear interactions between variables.\n",
      "\n",
      "\n",
      "Evaluation of the Symbolic Regression model with expression (exp(F+F)-(D+D*D))-(D+D): \n",
      " [[3947  453]\n",
      " [ 223 4262]]\n",
      "Expression translates to: (exp(last_cancel+last_cancel)-(last_auto_renew+last_auto_renew*last_auto_renew))-(last_auto_renew+last_auto_renew)\n",
      "- AUC score: 0.93\n",
      "- Precision: 0.9\n",
      "- Recall: 0.95\n",
      "- F1 score: 0.93\n",
      "Base model prediction (all variables = 0): 0.73\n",
      "Average feature effects: {'A': 0.0, 'B': 0.0, 'D': -0.63, 'E': 0.0, 'F': 0.63}  Please be advised that these values are approximate and are most likely incorrect when the expression contains non-linear interactions between variables.\n",
      "\n",
      "\n",
      "Evaluation of the Symbolic Regression model with expression exp(exp(F))-(D+B)^3: \n",
      " [[3902  498]\n",
      " [ 214 4271]]\n",
      "Expression translates to: exp(exp(last_cancel))-(last_auto_renew+mean_auto_renew)^3\n",
      "- AUC score: 0.94\n",
      "- Precision: 0.9\n",
      "- Recall: 0.95\n",
      "- F1 score: 0.92\n",
      "Base model prediction (all variables = 0): 0.94\n",
      "Average feature effects: {'A': 0.0, 'B': -0.44, 'D': -0.45, 'E': 0.0, 'F': 0.57}  Please be advised that these values are approximate and are most likely incorrect when the expression contains non-linear interactions between variables.\n",
      "\n",
      "\n",
      "Evaluation of the Symbolic Regression model with expression ((F+cos(D))^3-D)-D: \n",
      " [[3947  453]\n",
      " [ 223 4262]]\n",
      "Expression translates to: ((last_cancel+cos(last_auto_renew))^3-last_auto_renew)-last_auto_renew\n",
      "- AUC score: 0.93\n",
      "- Precision: 0.9\n",
      "- Recall: 0.95\n",
      "- F1 score: 0.93\n",
      "Base model prediction (all variables = 0): 0.73\n",
      "Average feature effects: {'A': 0.0, 'B': 0.0, 'D': -0.56, 'E': 0.0, 'F': 0.51}  Please be advised that these values are approximate and are most likely incorrect when the expression contains non-linear interactions between variables.\n",
      "\n",
      "\n",
      "Evaluation of the Symbolic Regression model with expression (exp(F+D*F)-B)-(D+D*D): \n",
      " [[3947  453]\n",
      " [ 223 4262]]\n",
      "Expression translates to: (exp(last_cancel+last_auto_renew*last_cancel)-mean_auto_renew)-(last_auto_renew+last_auto_renew*last_auto_renew)\n",
      "- AUC score: 0.94\n",
      "- Precision: 0.9\n",
      "- Recall: 0.95\n",
      "- F1 score: 0.93\n",
      "Base model prediction (all variables = 0): 0.73\n",
      "Average feature effects: {'A': 0.0, 'B': -0.17, 'D': -0.37, 'E': 0.0, 'F': 0.58}  Please be advised that these values are approximate and are most likely incorrect when the expression contains non-linear interactions between variables.\n",
      "\n",
      "\n",
      "Evaluation of the Symbolic Regression model with expression (exp(F+F)-B)-D/cos(D): \n",
      " [[3947  453]\n",
      " [ 222 4263]]\n",
      "Expression translates to: (exp(last_cancel+last_cancel)-mean_auto_renew)-last_auto_renew/cos(last_auto_renew)\n",
      "- AUC score: 0.94\n",
      "- Precision: 0.9\n",
      "- Recall: 0.95\n",
      "- F1 score: 0.93\n",
      "Base model prediction (all variables = 0): 0.73\n",
      "Average feature effects: {'A': 0.0, 'B': -0.18, 'D': -0.36, 'E': 0.0, 'F': 0.6}  Please be advised that these values are approximate and are most likely incorrect when the expression contains non-linear interactions between variables.\n",
      "\n",
      "\n",
      "Evaluation of the Symbolic Regression model with expression (exp(F))^2-((D+D)+D): \n",
      " [[3947  453]\n",
      " [ 223 4262]]\n",
      "Expression translates to: (exp(last_cancel))^2-((last_auto_renew+last_auto_renew)+last_auto_renew)\n",
      "- AUC score: 0.93\n",
      "- Precision: 0.9\n",
      "- Recall: 0.95\n",
      "- F1 score: 0.93\n",
      "Base model prediction (all variables = 0): 0.73\n",
      "Average feature effects: {'A': 0.0, 'B': 0.0, 'D': -0.56, 'E': 0.0, 'F': 0.6}  Please be advised that these values are approximate and are most likely incorrect when the expression contains non-linear interactions between variables.\n",
      "\n",
      "\n",
      "Evaluation of the Symbolic Regression model with expression (exp(F+F)-(D+D*B))-D: \n",
      " [[3947  453]\n",
      " [ 223 4262]]\n",
      "Expression translates to: (exp(last_cancel+last_cancel)-(last_auto_renew+last_auto_renew*mean_auto_renew))-last_auto_renew\n",
      "- AUC score: 0.94\n",
      "- Precision: 0.9\n",
      "- Recall: 0.95\n",
      "- F1 score: 0.93\n",
      "Base model prediction (all variables = 0): 0.73\n",
      "Average feature effects: {'A': 0.0, 'B': -0.07, 'D': -0.49, 'E': 0.0, 'F': 0.6}  Please be advised that these values are approximate and are most likely incorrect when the expression contains non-linear interactions between variables.\n"
     ]
    }
   ],
   "source": [
    "evaluate_SR_expression(results_path, test_set_path, threshold=0.5, num_vars=num_vars, column_names=column_names)"
   ],
   "metadata": {
    "collapsed": false,
    "ExecuteTime": {
     "end_time": "2024-06-28T19:42:49.997177Z",
     "start_time": "2024-06-28T19:42:49.825490Z"
    }
   },
   "id": "c4eb0814b7bd5e5d",
   "execution_count": 79
  },
  {
   "cell_type": "code",
   "outputs": [],
   "source": [
    "import numpy as np\n",
    "\n",
    "def sigmoid(x):\n",
    "    return 1 / (1 + np.exp(-x))"
   ],
   "metadata": {
    "collapsed": false,
    "ExecuteTime": {
     "end_time": "2024-06-28T16:29:39.152532Z",
     "start_time": "2024-06-28T16:29:39.111348Z"
    }
   },
   "id": "30be83bfeaae65e0",
   "execution_count": 26
  }
 ],
 "metadata": {
  "kernelspec": {
   "display_name": "Python 3",
   "language": "python",
   "name": "python3"
  },
  "language_info": {
   "codemirror_mode": {
    "name": "ipython",
    "version": 2
   },
   "file_extension": ".py",
   "mimetype": "text/x-python",
   "name": "python",
   "nbconvert_exporter": "python",
   "pygments_lexer": "ipython2",
   "version": "2.7.6"
  }
 },
 "nbformat": 4,
 "nbformat_minor": 5
}
